{
 "cells": [
  {
   "cell_type": "code",
   "execution_count": 1,
   "outputs": [],
   "source": [
    "import numpy as np\n",
    "import random"
   ],
   "metadata": {
    "collapsed": false,
    "pycharm": {
     "name": "#%%\n"
    }
   }
  },
  {
   "cell_type": "code",
   "execution_count": 2,
   "outputs": [],
   "source": [
    "class gridworld():\n",
    "    MOVE_UP = 0\n",
    "    MOVE_RIGHT = 1\n",
    "    MOVE_DOWN = 2\n",
    "    MOVE_LEFT = 3\n",
    "\n",
    "    def __init__(self, blocked, rewards, size = (5,5), punishment = -0.04):\n",
    "        super(gridworld, self).__init__()\n",
    "        if size != blocked.shape or size != rewards.shape:\n",
    "            raise ValueError(f'Size does not fit blocked and/or rewards')\n",
    "\n",
    "        self.size = size\n",
    "        self.blocked = blocked\n",
    "        self.rewards = rewards\n",
    "        self.punishment = punishment\n",
    "\n",
    "        self.state = self.reset()\n",
    "        self.q_values = np.zeros((4,self.size[0],self.size[1]),dtype=float)\n",
    "        self.policy = np.array([[random.randint(0,3) for row in range(size[0])] for _ in range(size[1])])\n",
    "        self.policy[blocked] = -1\n",
    "        print(self.policy)\n",
    "\n",
    "    def reset(self):\n",
    "        self.state = (0,0)\n",
    "        return self.state\n",
    "\n",
    "    def step(self, action):\n",
    "        action = self.apply_transition_uncertainty(action)\n",
    "\n",
    "        new_state = self.make_transition(action)\n",
    "\n",
    "        reward = self.punishment + self.rewards[new_state]\n",
    "\n",
    "        terminal = self.is_terminal_state(new_state)\n",
    "\n",
    "        return new_state, reward, terminal\n",
    "\n",
    "    def visualize(self):\n",
    "        for y in range(self.size[0]):\n",
    "            echo = []\n",
    "            for x in range(self.size[1]):\n",
    "                if self.state[0] == y and self.state[1] == x:\n",
    "                    echo.append(\"!\")\n",
    "                elif blocked[y][x]:\n",
    "                    echo.append(\"X\")\n",
    "                else:\n",
    "                    echo.append(str(rewards[y][x]))\n",
    "\n",
    "            print(\" \".join(echo))\n",
    "\n",
    "        print(self.policy)\n",
    "        print(self.q_values)\n",
    "\n",
    "    def apply_transition_uncertainty(self, action):\n",
    "        #there's a 10% chance to move left or right from the desired direction, respectively\n",
    "        if random.uniform(0, 1) <= 0.1:\n",
    "            action -= 1\n",
    "        elif random.uniform(0, 1) >= 0.9:\n",
    "            action += 1\n",
    "\n",
    "        #correct not available actions\n",
    "        if action < 0:\n",
    "            action = self.MOVE_LEFT\n",
    "        if action > 3:\n",
    "            action = self.MOVE_UP\n",
    "\n",
    "        return action\n",
    "\n",
    "    def make_transition(self, action):\n",
    "        new_state = list(self.state)\n",
    "\n",
    "        #get new state coordinates depending on move direction\n",
    "        if action == self.MOVE_UP:\n",
    "            new_state[0] -= 1\n",
    "        elif action == self.MOVE_RIGHT:\n",
    "            new_state[1] += 1\n",
    "        elif action == self.MOVE_DOWN:\n",
    "            new_state[0] += 1\n",
    "        elif action == self.MOVE_LEFT:\n",
    "            new_state[1] -= 1\n",
    "\n",
    "        #if we end up in a state not featured (possible because of uncertainty), the exception is raised and we return the initial state\n",
    "        try:\n",
    "            new_state = tuple(new_state)\n",
    "            if not self.blocked[new_state] and new_state[0] >= 0 and new_state[1] >= 0:\n",
    "                self.state = new_state\n",
    "        except IndexError:\n",
    "            return self.state\n",
    "\n",
    "\n",
    "        return self.state\n",
    "\n",
    "    def is_terminal_state(self, state):\n",
    "        return self.rewards[state] == 1"
   ],
   "metadata": {
    "collapsed": false,
    "pycharm": {
     "name": "#%%\n"
    }
   }
  },
  {
   "cell_type": "code",
   "execution_count": 3,
   "outputs": [],
   "source": [
    "def n_step_sarsa(world, steps, learning_rate, gamma, max_episodes):\n",
    "    episode = 1\n",
    "    while True:\n",
    "\n",
    "        state = world.reset()\n",
    "\n",
    "        states_count = 1\n",
    "        while True:\n",
    "            action = world.policy[state]\n",
    "\n",
    "            next_action = action\n",
    "            new_state, reward, terminal = world.step(next_action)\n",
    "\n",
    "            td_error = 0\n",
    "            for i in range(steps):\n",
    "                td_error += (gamma ** i) * reward\n",
    "\n",
    "                if terminal:\n",
    "                    break\n",
    "\n",
    "                next_action = world.policy[new_state]\n",
    "                new_state, reward, terminal = world.step(next_action)\n",
    "\n",
    "            world.q_values[action][state] = world.q_values[action][state] + learning_rate * (td_error + world.q_values[next_action][new_state] - world.q_values[action][state])\n",
    "\n",
    "            #policy evaluation\n",
    "            action_values = world.q_values[:,state[0],state[1]]\n",
    "            greedy = np.argsort(action_values)[::-1][0]\n",
    "\n",
    "            world.policy[state] = greedy\n",
    "\n",
    "            state = new_state\n",
    "\n",
    "            if terminal:\n",
    "                break\n",
    "\n",
    "            #for safety reasons\n",
    "            states_count +=1\n",
    "            if states_count > 10000:\n",
    "                break\n",
    "\n",
    "        episode += 1\n",
    "        if episode > max_episodes:\n",
    "            break"
   ],
   "metadata": {
    "collapsed": false,
    "pycharm": {
     "name": "#%%\n"
    }
   }
  },
  {
   "cell_type": "code",
   "execution_count": 4,
   "outputs": [
    {
     "name": "stdout",
     "output_type": "stream",
     "text": [
      "[[False False False False False]\n",
      " [False  True  True False False]\n",
      " [False  True False False False]\n",
      " [False  True False False False]\n",
      " [False False False False False]]\n"
     ]
    }
   ],
   "source": [
    "blocked = np.zeros((5,5),dtype=bool)\n",
    "\n",
    "for y, x in ([(1,1),(1,2),(2,1),(3,1)]):\n",
    "    blocked[y][x] = True\n",
    "\n",
    "print(blocked)"
   ],
   "metadata": {
    "collapsed": false,
    "pycharm": {
     "name": "#%%\n"
    }
   }
  },
  {
   "cell_type": "code",
   "execution_count": 5,
   "outputs": [
    {
     "name": "stdout",
     "output_type": "stream",
     "text": [
      "[[ 0  0  0  0  0]\n",
      " [ 0  0  0 -1  0]\n",
      " [ 0  0  1  0  0]\n",
      " [ 0  0 -1  0  0]\n",
      " [ 0  0  0  0  0]]\n"
     ]
    }
   ],
   "source": [
    "rewards = np.zeros((5,5),dtype=int)\n",
    "\n",
    "rewards[2][2] = 1\n",
    "rewards[1][3] = -1\n",
    "rewards[3][2] = -1\n",
    "\n",
    "print(rewards)"
   ],
   "metadata": {
    "collapsed": false,
    "pycharm": {
     "name": "#%%\n"
    }
   }
  },
  {
   "cell_type": "code",
   "execution_count": 6,
   "outputs": [
    {
     "name": "stdout",
     "output_type": "stream",
     "text": [
      "[[ 1  0  1  1  3]\n",
      " [ 0 -1 -1  0  3]\n",
      " [ 2 -1  1  2  2]\n",
      " [ 0 -1  2  3  2]\n",
      " [ 2  2  3  0  0]]\n"
     ]
    }
   ],
   "source": [
    "world = gridworld(blocked, rewards, (5,5))"
   ],
   "metadata": {
    "collapsed": false,
    "pycharm": {
     "name": "#%%\n"
    }
   }
  },
  {
   "cell_type": "code",
   "execution_count": 7,
   "outputs": [],
   "source": [
    "sarsa_steps = 4\n",
    "learning_rate = 0.1\n",
    "gamma = 0.9\n",
    "max_episodes = 100000\n",
    "\n",
    "n_step_sarsa(world, sarsa_steps, learning_rate, gamma, max_episodes)"
   ],
   "metadata": {
    "collapsed": false,
    "pycharm": {
     "name": "#%%\n"
    }
   }
  },
  {
   "cell_type": "code",
   "execution_count": 8,
   "outputs": [
    {
     "name": "stdout",
     "output_type": "stream",
     "text": [
      "0 0 0 0 0\n",
      "0 X X -1 0\n",
      "0 X ! 0 0\n",
      "0 X -1 0 0\n",
      "0 0 0 0 0\n",
      "[[ 1  1  1  1  2]\n",
      " [ 0 -1 -1  2  2]\n",
      " [ 2 -1  1  3  3]\n",
      " [ 2 -1  0  0  3]\n",
      " [ 1  1  1  0  3]]\n",
      "[[[-0.78071006 -0.68139524 -0.63771043 -0.79005187 -0.55425271]\n",
      "  [-0.47626265  0.          0.         -0.4738458  -0.50685141]\n",
      "  [-0.71229394  0.          0.         -0.13982338 -0.28896361]\n",
      "  [-0.68149464  0.          0.55719536  0.54308488 -0.18178869]\n",
      "  [-0.56811521 -0.56219454 -0.30468983  0.13009025 -0.38998104]]\n",
      "\n",
      " [[-0.34848312 -0.32673055  0.12482777 -0.26532879 -0.544834  ]\n",
      "  [-0.75754077  0.          0.         -0.32114744 -0.50346713]\n",
      "  [-0.69489556  0.          0.         -0.08193906 -0.16479816]\n",
      "  [-0.68008928  0.         -0.06498357 -0.1017536  -0.1521471 ]\n",
      "  [-0.48617786 -0.39452752 -0.25114206 -0.33332346 -0.37127326]]\n",
      "\n",
      " [[-0.77688576 -0.68154873 -0.62850187 -0.83276451  0.25202026]\n",
      "  [-0.75740817  0.          0.          0.35899635  0.38600861]\n",
      "  [-0.69489005  0.          0.         -0.07102823 -0.29095304]\n",
      "  [-0.63926276  0.         -0.1332316  -0.1776288  -0.20691299]\n",
      "  [-0.58079759 -0.56886484 -0.26456032 -0.32276089 -0.3632243 ]]\n",
      "\n",
      " [[-0.78211629 -0.68105621 -0.64042446 -0.77567377 -0.55285511]\n",
      "  [-0.75799337  0.          0.         -0.357656   -0.552412  ]\n",
      "  [-0.6957787   0.          0.          0.81784242  0.67119015]\n",
      "  [-0.68035946  0.         -0.375256   -0.11760768  0.21906628]\n",
      "  [-0.58048538 -0.56471803 -0.2569134  -0.33417787  0.03506194]]]\n"
     ]
    }
   ],
   "source": [
    "world.visualize()"
   ],
   "metadata": {
    "collapsed": false,
    "pycharm": {
     "name": "#%%\n"
    }
   }
  },
  {
   "cell_type": "code",
   "execution_count": null,
   "outputs": [],
   "source": [],
   "metadata": {
    "collapsed": false,
    "pycharm": {
     "name": "#%%\n"
    }
   }
  }
 ],
 "metadata": {
  "kernelspec": {
   "display_name": "Python 3",
   "language": "python",
   "name": "python3"
  },
  "language_info": {
   "codemirror_mode": {
    "name": "ipython",
    "version": 2
   },
   "file_extension": ".py",
   "mimetype": "text/x-python",
   "name": "python",
   "nbconvert_exporter": "python",
   "pygments_lexer": "ipython2",
   "version": "2.7.6"
  }
 },
 "nbformat": 4,
 "nbformat_minor": 0
}